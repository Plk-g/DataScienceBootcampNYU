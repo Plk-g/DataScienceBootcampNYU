{
 "cells": [
  {
   "cell_type": "markdown",
   "id": "3528c213-4580-47e9-be54-89a203823985",
   "metadata": {},
   "source": [
    "## Week 1 Take Home Assignment\n",
    "1. Write a function  count_vowels(word) that takes a word as an argument and returns the number of vowels in the word\n",
    "2. Iterate through the following list of animals and print each one in all cap  \n",
    "  animals=['tiger', 'elephant', 'monkey', 'zebra', 'panth'3\n",
    "\n",
    "\n",
    "3. Write a program that iterates from 1 to 20, printing each number and whether it's odd or4even.\n",
    "4. Write a function sum_of_integers(a, b) that takes two integers as input from the user and returns their sum."
   ]
  },
  {
   "cell_type": "code",
   "execution_count": 10,
   "id": "066691b5-ccb0-40d4-b490-0a920a994ef4",
   "metadata": {},
   "outputs": [],
   "source": [
    "#1\n",
    "\n",
    "def count_vowels(word):\n",
    "    \n",
    "    check = \"AEIOUaeiou\" #including both capital and small\n",
    "    vowel_count = 0 \n",
    "    \n",
    "    for letter in word:\n",
    "        if letter in check:\n",
    "            vowel_count += 1\n",
    "    return vowel_count"
   ]
  },
  {
   "cell_type": "code",
   "execution_count": 18,
   "id": "a07278e8-ee3a-4a3b-b79d-82578137244e",
   "metadata": {},
   "outputs": [
    {
     "data": {
      "text/plain": [
       "2"
      ]
     },
     "execution_count": 18,
     "metadata": {},
     "output_type": "execute_result"
    }
   ],
   "source": [
    "#testing the fucntion\n",
    "count_vowels(\"apple\")"
   ]
  },
  {
   "cell_type": "code",
   "execution_count": null,
   "id": "217fee98-6c7f-4fd0-8ccf-423355867db7",
   "metadata": {},
   "outputs": [],
   "source": []
  },
  {
   "cell_type": "code",
   "execution_count": 20,
   "id": "313ab661-9294-4154-be67-170c6490970e",
   "metadata": {},
   "outputs": [
    {
     "name": "stdout",
     "output_type": "stream",
     "text": [
      "TIGER\n",
      "ELEPHANT\n",
      "MONKEY\n",
      "ZEBRA\n",
      "PANTHER\n"
     ]
    }
   ],
   "source": [
    "#2\n",
    "animals=['tiger', 'elephant', 'monkey', 'zebra', 'panther']\n",
    "\n",
    "for element in animals:\n",
    "    print(element.upper())\n"
   ]
  },
  {
   "cell_type": "code",
   "execution_count": 30,
   "id": "4ad76b1f-5661-419e-bda4-e61ef1895f5f",
   "metadata": {},
   "outputs": [
    {
     "name": "stdout",
     "output_type": "stream",
     "text": [
      "1 is a odd number.\n",
      "2 is an even number.\n",
      "3 is a odd number.\n",
      "4 is an even number.\n",
      "5 is a odd number.\n",
      "6 is an even number.\n",
      "7 is a odd number.\n",
      "8 is an even number.\n",
      "9 is a odd number.\n",
      "10 is an even number.\n",
      "11 is a odd number.\n",
      "12 is an even number.\n",
      "13 is a odd number.\n",
      "14 is an even number.\n",
      "15 is a odd number.\n",
      "16 is an even number.\n",
      "17 is a odd number.\n",
      "18 is an even number.\n",
      "19 is a odd number.\n",
      "20 is an even number.\n"
     ]
    }
   ],
   "source": [
    "#3\n",
    "for num in range(1,21):\n",
    "    if num%2 == 0:\n",
    "        print(str(num) + \" is an even number.\")\n",
    "    else:\n",
    "        print(str(num) + \" is a odd number.\")"
   ]
  },
  {
   "cell_type": "code",
   "execution_count": 36,
   "id": "d87e55c9-c3d6-4039-93de-2c79c74a19f2",
   "metadata": {},
   "outputs": [
    {
     "name": "stdout",
     "output_type": "stream",
     "text": [
      "Please enter the first number:  1\n",
      "Please enter the second number:  2\n"
     ]
    },
    {
     "name": "stdout",
     "output_type": "stream",
     "text": [
      "3\n"
     ]
    }
   ],
   "source": [
    "def sum_of_integers(a,b):\n",
    "    return a+b\n",
    "\n",
    "#to get input form the user \n",
    "a = int(input(\"Please enter the first number: \"))\n",
    "b = int(input(\"Please enter the second number: \"))\n",
    "\n",
    "result = sum_of_integers(a,b)\n",
    "print(result)"
   ]
  }
 ],
 "metadata": {
  "kernelspec": {
   "display_name": "Python 3 (ipykernel)",
   "language": "python",
   "name": "python3"
  },
  "language_info": {
   "codemirror_mode": {
    "name": "ipython",
    "version": 3
   },
   "file_extension": ".py",
   "mimetype": "text/x-python",
   "name": "python",
   "nbconvert_exporter": "python",
   "pygments_lexer": "ipython3",
   "version": "3.12.4"
  }
 },
 "nbformat": 4,
 "nbformat_minor": 5
}
